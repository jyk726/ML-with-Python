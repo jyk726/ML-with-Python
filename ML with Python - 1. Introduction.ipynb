{
 "cells": [
  {
   "cell_type": "markdown",
   "id": "e10beec7-d3b4-4b28-adb4-b68f584f7348",
   "metadata": {},
   "source": [
    "#### Machine Learning : 데이터에서 지식을 추출하는 작업  \n",
    "- 경험(데이터)을 통해 스스로 규칙을 학습    \n",
    "- 기계가 학습한다는 건, 프로그램이 특정 작업(task)를 하는 데 있어서 경험(experience)을 통해 작업의 성능(performance)을 향상시키는 것\n",
    "\n",
    "* 머신러닝 알고리즘\n",
    "  - **지도학습(supervised learning)** : 알고리즘에 입력과 기대되는 출력을 제공(답이 있는 데이터) → 알고리즘이 주어진 입력에서 원하는 출력을 만드는 방법을 찾는다(답을 맞추는 것이 학습의 목적)\n",
    "    - 분류(classification)\n",
    "    - 회귀(regression)\n",
    "  -  **비지도학습(unsupervised learning)** : 알고리즘에 입력은 주어지지만 출력은 주어지지 않음\n",
    "  -  (강화학습)"
   ]
  },
  {
   "cell_type": "markdown",
   "id": "d9dafbcb-941c-44d9-bdf9-0470c59276b3",
   "metadata": {},
   "source": [
    "- sample / data point :  dataset의 하나의 개체 혹은 행\n",
    "- feature extraction / feature engineering : 좋은 입력데이터를 만들어낸다"
   ]
  },
  {
   "cell_type": "markdown",
   "id": "460088a1-0dd1-407c-81bb-6324e56c096f",
   "metadata": {},
   "source": [
    "---"
   ]
  },
  {
   "cell_type": "markdown",
   "id": "733ef4bb-b513-429c-97a6-4ec147e69a61",
   "metadata": {},
   "source": [
    "#### * 사용할 데이터의 이해  + 그 데이터가 해결해야 할 문제와 어떤 관련이 있는지 이해\n",
    "##### *!! dataset으로 무엇을 하는지를 ML 모델을 만들기 전 반드시 이해해야 한다*"
   ]
  },
  {
   "cell_type": "markdown",
   "id": "9bea60a6-0974-407b-80c4-dd51ce3babb1",
   "metadata": {},
   "source": [
    "###### - 어떤 질문에 대한 답을 원하는가? 가지고 있는 데이터가 원하는 답을 줄 수 있는가?\n",
    "###### - 내 질문을 ML의 문제로 가장 잘 기술하는 방법은 무엇인가?\n",
    "###### - 문제를 풀기에 충분한 데이터를 모았는가?\n",
    "###### - 내가 추출한 데이터의 특성은 무엇이며, 좋은 예측을 만들어낼 수 있을 것인가?\n",
    "###### - ML 애플리케이션의 성과를 어떻게 측정할 수 있는가?\n",
    "###### - ML 솔루션이 다른 연구나 제품과 어떻게 협력할 수 있는가?"
   ]
  },
  {
   "cell_type": "markdown",
   "id": "9260826d-c146-4f85-9a82-575ed583077c",
   "metadata": {},
   "source": [
    "---"
   ]
  },
  {
   "cell_type": "markdown",
   "id": "bb1e69d4-5d2a-474d-b519-52b80c8ec5da",
   "metadata": {},
   "source": [
    "* ML 모델이 잘 작동하는지?  \n",
    "  = 모델의 예측을 신뢰할 수 있는지?\n",
    "  \n",
    "  → 성능 측정하기 : train_test_split (모델을 만들 때 사용한 데이터는 평가 목적으로 사용할 수 없다)"
   ]
  },
  {
   "cell_type": "code",
   "execution_count": null,
   "id": "a1e02d43-8a95-4a1d-91a2-2373bc30053e",
   "metadata": {},
   "outputs": [],
   "source": []
  }
 ],
 "metadata": {
  "kernelspec": {
   "display_name": "Python 3 (ipykernel)",
   "language": "python",
   "name": "python3"
  },
  "language_info": {
   "codemirror_mode": {
    "name": "ipython",
    "version": 3
   },
   "file_extension": ".py",
   "mimetype": "text/x-python",
   "name": "python",
   "nbconvert_exporter": "python",
   "pygments_lexer": "ipython3",
   "version": "3.11.5"
  }
 },
 "nbformat": 4,
 "nbformat_minor": 5
}
